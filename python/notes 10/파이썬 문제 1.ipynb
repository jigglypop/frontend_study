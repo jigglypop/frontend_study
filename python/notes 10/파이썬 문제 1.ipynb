{
 "cells": [
  {
   "cell_type": "code",
   "execution_count": null,
   "metadata": {
    "scrolled": true
   },
   "outputs": [],
   "source": [
    "# 6. 흐름과 제어 - If 1 \n",
    "# 다음의 결과와 같이 임의의 양의 정수를 입력받아 그 정수의 모든 약수를 구하십시오\n",
    "\n",
    "n = int(input())\n",
    "a = [f'{i}(은)는 9의 약수입니다.' for i in range(1,n+1) if n % i ==0]\n",
    "print('\\n'.join(a))"
   ]
  },
  {
   "cell_type": "code",
   "execution_count": null,
   "metadata": {},
   "outputs": [],
   "source": [
    "num = int(input())\n",
    "\n",
    "for i in range(1, num+1):\n",
    "    if num % i == 0:   \n",
    "        print(\"%d(은)는 %d의 약수입니다.\" % (i,num))"
   ]
  },
  {
   "cell_type": "code",
   "execution_count": null,
   "metadata": {},
   "outputs": [],
   "source": [
    "# 7. 흐름과 제어 - If 2\n",
    "# 다음의 결과와 같이 임의의 양의 정수를 입력받아 그 정수의 모든 약수를 구하십시오\n",
    "# (단, 약수가 2개일 경우 소수임을 나타내십시오)\n",
    "\n",
    "n = int(input())\n",
    "r = []\n",
    "for i in range(1,n+1):\n",
    "    if n % i == 0:\n",
    "        r.append(f'{i}(은)는 {n}의 약수입니다.')\n",
    "if len(r) == 2:\n",
    "    r.append(f'{i}(은)는 1과 {n}로만 나눌 수 있는 소수입니다.')\n",
    "print('\\n'.join(r))        "
   ]
  },
  {
   "cell_type": "code",
   "execution_count": null,
   "metadata": {},
   "outputs": [],
   "source": [
    "n = int(input())\n",
    "t=0\n",
    "i=0\n",
    "\n",
    "for i in range (1,n+1):\n",
    "    if n % i == 0:\n",
    "        t=t+1\n",
    "        print(\"%d(은)는 %d의 약수입니다.\" % (i,n));              \n",
    "if t==2:\n",
    "     print(\"%d(은)는 1과 %d로만 나눌 수 있는 소수입니다.\" % (i,n));"
   ]
  },
  {
   "cell_type": "code",
   "execution_count": null,
   "metadata": {},
   "outputs": [],
   "source": [
    "# 8. 흐름제어 - If - 연습문제 3\n",
    "# 다음의 결과와 같이 입력된 영어 알파벳 문자에 대해 대소문자를 구분하는 코드를 작성하십시오.\n",
    "\n",
    "n = input()\n",
    "\n",
    "if ord('a') <= ord(n) <= ord('z'):\n",
    "    print(f'{n} 는 소문자 입니다.')\n",
    "elif ord('A') <= ord(n) <= ord('Z'):\n",
    "    print(f'{n} 는 대문자 입니다.')\n",
    "    "
   ]
  },
  {
   "cell_type": "code",
   "execution_count": null,
   "metadata": {},
   "outputs": [],
   "source": [
    "# 9. 흐름과 제어 - If 4\n",
    "# 다음의 결과와 같이 가상의 두 사람이 가위 바위 보 중 하나를 내서 승패를 가르는 가위 바위 보 게임을 작성하십시오.\n",
    "# 이 때 [\"가위\", \"바위\", \"보\"] 리스트를 활용합니다.\n",
    "\n",
    "Man1 = input()\n",
    "Man2 = input()\n",
    "\n",
    "\n",
    "if (Man1 == '바위' and Man2 == '가위') or (Man1 == '보' and Man2 == '바위') or (Man1 == '가위' and Man2 == '보'):\n",
    "    print('Result : Man1 Win!')\n",
    "elif (Man2 == '바위' and Man1 == '가위') or (Man2 == '보' and Man1 == '바위') or (Man2 == '가위' and Man1 == '보'):\n",
    "    print('Result : Man2 Win!')\n",
    "else:\n",
    "    print('Result : Draw')    "
   ]
  },
  {
   "cell_type": "code",
   "execution_count": null,
   "metadata": {},
   "outputs": [],
   "source": [
    "# 10. 흐름과 제어 - If 5\n",
    "# 다음의 결과와 같이 입력된 문자가 대문자일 경우 소문자로, 소문자일 경우 대문자로 변경하고,\n",
    "# 알파벳이 아닐 경우엔 그냥 출력하는 코드를 작성하십시오.\n",
    "# 출력 시 아스키코드를 함께 출력합니다.\n",
    "\n",
    "\n",
    "n = input()\n",
    "\n",
    "if ord('a') <= ord(n) <= ord('z'):    \n",
    "    print(f'{chr(ord(n))}(ASCII: {ord(n)}) => {chr(ord(n)-32)}(ASCII: {ord(n)-32})')\n",
    "elif ord('A') <= ord(n) <= ord('Z'):\n",
    "    print(f'{chr(ord(n))}(ASCII: {ord(n)}) => {chr(ord(n)+32)}(ASCII: {ord(n)+32})')\n",
    "else:\n",
    "    print(n)\n",
    "\n"
   ]
  },
  {
   "cell_type": "code",
   "execution_count": 6,
   "metadata": {},
   "outputs": [
    {
     "name": "stdout",
     "output_type": "stream",
     "text": [
      "7,14,21,28,42,49,56,63,77,84,91,98,112,119,126,133,147,154,161,168,182,189,196\n"
     ]
    }
   ],
   "source": [
    "# 11. 흐름과 제어 - If 7\n",
    "'''\n",
    "1~200 사이의 정수 가운데 7의 배수이면서 5의 배수는 아닌 모든 숫자들을 찾아\n",
    "\n",
    "콤마(,)로 구분된 문자열을 구성해 출력하는 프로그램을 작성하십시오.\n",
    "'''\n",
    "r = []\n",
    "for i in range(1,201):\n",
    "    if i % 7 ==0 and i % 5:\n",
    "        r.append(str(i))\n",
    "print(','.join(r))"
   ]
  },
  {
   "cell_type": "code",
   "execution_count": 10,
   "metadata": {},
   "outputs": [
    {
     "name": "stdout",
     "output_type": "stream",
     "text": [
      "7,14,21,28,42,49,56,63,77,84,91,98,112,119,126,133,147,154,161,168,182,189,196\n"
     ]
    }
   ],
   "source": [
    "r = [str(i) for i in range(1,201) if i % 7 ==0 and i % 5]\n",
    "print(','.join(r))"
   ]
  },
  {
   "cell_type": "code",
   "execution_count": 18,
   "metadata": {},
   "outputs": [
    {
     "name": "stdout",
     "output_type": "stream",
     "text": [
      "[['2', '0', '1'], ['2', '0', '2'], ['2', '0', '3'], ['2', '0', '4'], ['2', '0', '5'], ['2', '0', '6'], ['2', '0', '7'], ['2', '0', '8'], ['2', '0', '9'], ['2', '1', '0'], ['2', '1', '1'], ['2', '1', '2'], ['2', '1', '3'], ['2', '1', '4'], ['2', '1', '5'], ['2', '1', '6'], ['2', '1', '7'], ['2', '1', '8'], ['2', '1', '9'], ['2', '2', '0'], ['2', '2', '1'], ['2', '2', '2'], ['2', '2', '3'], ['2', '2', '4'], ['2', '2', '5'], ['2', '2', '6'], ['2', '2', '7'], ['2', '2', '8'], ['2', '2', '9'], ['2', '3', '0'], ['2', '3', '1'], ['2', '3', '2'], ['2', '3', '3'], ['2', '3', '4'], ['2', '3', '5'], ['2', '3', '6'], ['2', '3', '7'], ['2', '3', '8'], ['2', '3', '9'], ['2', '4', '0'], ['2', '4', '1'], ['2', '4', '2'], ['2', '4', '3'], ['2', '4', '4'], ['2', '4', '5'], ['2', '4', '6'], ['2', '4', '7'], ['2', '4', '8'], ['2', '4', '9'], ['2', '5', '0'], ['2', '5', '1'], ['2', '5', '2'], ['2', '5', '3'], ['2', '5', '4'], ['2', '5', '5'], ['2', '5', '6'], ['2', '5', '7'], ['2', '5', '8'], ['2', '5', '9'], ['2', '6', '0'], ['2', '6', '1'], ['2', '6', '2'], ['2', '6', '3'], ['2', '6', '4'], ['2', '6', '5'], ['2', '6', '6'], ['2', '6', '7'], ['2', '6', '8'], ['2', '6', '9'], ['2', '7', '0'], ['2', '7', '1'], ['2', '7', '2'], ['2', '7', '3'], ['2', '7', '4'], ['2', '7', '5'], ['2', '7', '6'], ['2', '7', '7'], ['2', '7', '8'], ['2', '7', '9'], ['2', '8', '0'], ['2', '8', '1'], ['2', '8', '2'], ['2', '8', '3'], ['2', '8', '4'], ['2', '8', '5'], ['2', '8', '6'], ['2', '8', '7'], ['2', '8', '8'], ['2', '8', '9'], ['2', '9', '0'], ['2', '9', '1'], ['2', '9', '2'], ['2', '9', '3'], ['2', '9', '4'], ['2', '9', '5'], ['2', '9', '6'], ['2', '9', '7'], ['2', '9', '8'], ['2', '9', '9'], ['3', '0', '0']]\n"
     ]
    }
   ],
   "source": [
    "# 12. 흐름과 제어 - If 8\n",
    "'''\n",
    "100~300 사이의 숫자에서 각각의 자리 숫자가 짝수인 숫자를 찾아 콤마(,)로 구분해 출력하는 프로그램을 작성하십시오.\n",
    "'''\n",
    "r = []\n",
    "for i in range(201,301):\n",
    "    r.append(list(f'{i}'))\n",
    "for j in r:\n",
    "    for k in range(3):\n",
    "        if r[1] % 1\n",
    "print(r)"
   ]
  }
 ],
 "metadata": {
  "kernelspec": {
   "display_name": "Python 3",
   "language": "python",
   "name": "python3"
  },
  "toc": {
   "base_numbering": 1,
   "nav_menu": {},
   "number_sections": true,
   "sideBar": true,
   "skip_h1_title": false,
   "title_cell": "Table of Contents",
   "title_sidebar": "Contents",
   "toc_cell": false,
   "toc_position": {},
   "toc_section_display": true,
   "toc_window_display": false
  }
 },
 "nbformat": 4,
 "nbformat_minor": 2
}
