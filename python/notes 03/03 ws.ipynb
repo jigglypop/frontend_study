{
 "cells": [
  {
   "cell_type": "markdown",
   "metadata": {},
   "source": [
    "# 회문"
   ]
  },
  {
   "cell_type": "code",
   "execution_count": 2,
   "metadata": {},
   "outputs": [
    {
     "name": "stdout",
     "output_type": "stream",
     "text": [
      "안녕안\n",
      "True\n"
     ]
    }
   ],
   "source": [
    "def P(s):\n",
    "\n",
    "    Q = []\n",
    "    S = []\n",
    "\n",
    "    for x in s:\n",
    "        if x.isalpha():\n",
    "            Q.append(x.lower())\n",
    "            S.append(x.lower())\n",
    "    while Q:\n",
    "        if Q.pop(0) != S.pop():\n",
    "            return False        \n",
    "    return True\n",
    "\n",
    "n = input()\n",
    "print(P(n))"
   ]
  }
 ],
 "metadata": {
  "kernelspec": {
   "display_name": "Python 3",
   "language": "python",
   "name": "python3"
  },
  "language_info": {
   "codemirror_mode": {
    "name": "ipython",
    "version": 3
   },
   "file_extension": ".py",
   "mimetype": "text/x-python",
   "name": "python",
   "nbconvert_exporter": "python",
   "pygments_lexer": "ipython3",
   "version": "3.7.3"
  },
  "toc": {
   "base_numbering": 1,
   "nav_menu": {},
   "number_sections": true,
   "sideBar": true,
   "skip_h1_title": false,
   "title_cell": "Table of Contents",
   "title_sidebar": "Contents",
   "toc_cell": false,
   "toc_position": {},
   "toc_section_display": true,
   "toc_window_display": false
  }
 },
 "nbformat": 4,
 "nbformat_minor": 2
}
